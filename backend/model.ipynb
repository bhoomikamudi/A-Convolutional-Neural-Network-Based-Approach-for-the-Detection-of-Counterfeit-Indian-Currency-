{
 "cells": [
  {
   "cell_type": "code",
   "execution_count": 1,
   "metadata": {},
   "outputs": [
    {
     "name": "stdout",
     "output_type": "stream",
     "text": [
      "WARNING:tensorflow:From C:\\Users\\0871\\AppData\\Roaming\\Python\\Python310\\site-packages\\keras\\src\\losses.py:2976: The name tf.losses.sparse_softmax_cross_entropy is deprecated. Please use tf.compat.v1.losses.sparse_softmax_cross_entropy instead.\n",
      "\n"
     ]
    }
   ],
   "source": [
    "import tensorflow as tf\n",
    "from tensorflow.keras.applications import MobileNet\n",
    "from tensorflow.keras.layers import GlobalAveragePooling2D, Dense, Dropout, Flatten, BatchNormalization\n",
    "from tensorflow.keras.models import Model\n",
    "from tensorflow.keras.preprocessing.image import ImageDataGenerator"
   ]
  },
  {
   "cell_type": "code",
   "execution_count": 2,
   "metadata": {},
   "outputs": [
    {
     "name": "stdout",
     "output_type": "stream",
     "text": [
      "Found 199 images belonging to 2 classes.\n"
     ]
    },
    {
     "name": "stdout",
     "output_type": "stream",
     "text": [
      "Found 49 images belonging to 2 classes.\n",
      "Found 107 images belonging to 2 classes.\n"
     ]
    }
   ],
   "source": [
    "# Setup the ImageDataGenerator for data augmentation\n",
    "train_datagen = ImageDataGenerator(\n",
    "    rescale=1./255,\n",
    "    shear_range=0.2,\n",
    "    zoom_range=0.2,\n",
    "    horizontal_flip=True,\n",
    "    validation_split=0.2)\n",
    "\n",
    "train_generator = train_datagen.flow_from_directory(\n",
    "    r'Indian Currency Dataset\\train',\n",
    "    target_size=(224, 224),\n",
    "    batch_size=32,\n",
    "    class_mode='categorical',\n",
    "    subset=\"training\")\n",
    "\n",
    "validation_generator = train_datagen.flow_from_directory(\n",
    "    r'Indian Currency Dataset\\train',\n",
    "    target_size=(224, 224),\n",
    "    batch_size=32,\n",
    "    class_mode='categorical',\n",
    "    subset=\"validation\")\n",
    "\n",
    "test_datagen = ImageDataGenerator(rescale=1./255)\n",
    "test_generator = test_datagen.flow_from_directory(\n",
    "    r'Indian Currency Dataset\\test',\n",
    "    target_size=(224, 224),\n",
    "    batch_size=32,\n",
    "    class_mode='categorical',\n",
    "    shuffle=False)  "
   ]
  },
  {
   "cell_type": "code",
   "execution_count": 3,
   "metadata": {},
   "outputs": [
    {
     "name": "stdout",
     "output_type": "stream",
     "text": [
      "WARNING:tensorflow:From C:\\Users\\0871\\AppData\\Roaming\\Python\\Python310\\site-packages\\keras\\src\\backend.py:1398: The name tf.executing_eagerly_outside_functions is deprecated. Please use tf.compat.v1.executing_eagerly_outside_functions instead.\n",
      "\n",
      "WARNING:tensorflow:From C:\\Users\\0871\\AppData\\Roaming\\Python\\Python310\\site-packages\\keras\\src\\layers\\normalization\\batch_normalization.py:979: The name tf.nn.fused_batch_norm is deprecated. Please use tf.compat.v1.nn.fused_batch_norm instead.\n",
      "\n",
      "WARNING:tensorflow:From C:\\Users\\0871\\AppData\\Roaming\\Python\\Python310\\site-packages\\keras\\src\\optimizers\\__init__.py:309: The name tf.train.Optimizer is deprecated. Please use tf.compat.v1.train.Optimizer instead.\n",
      "\n"
     ]
    }
   ],
   "source": [
    "import tensorflow as tf\n",
    "from tensorflow.keras.applications import MobileNet\n",
    "from tensorflow.keras.layers import GlobalAveragePooling2D, Dense, Dropout, Flatten, BatchNormalization\n",
    "from tensorflow.keras.models import Model\n",
    "from tensorflow.keras.preprocessing.image import ImageDataGenerator\n",
    "\n",
    "# Load the pre-trained MobileNet model without the top layer\n",
    "base_model = MobileNet(weights='imagenet', include_top=False, input_shape=(224, 224, 3))\n",
    "\n",
    "# Freeze the layers of the base model\n",
    "for layer in base_model.layers:\n",
    "    layer.trainable = False\n",
    "\n",
    "# Adding custom layers\n",
    "x = base_model.output\n",
    "x = GlobalAveragePooling2D()(x)  \n",
    "\n",
    "x = Flatten()(x) \n",
    "x = Dense(1024, activation='relu')(x) \n",
    "x = BatchNormalization()(x)  \n",
    "x = Dropout(0.5)(x) \n",
    "\n",
    "x = Dense(512, activation='relu')(x)  \n",
    "x = BatchNormalization()(x)\n",
    "x = Dropout(0.5)(x)\n",
    "\n",
    "predictions = Dense(2, activation='softmax')(x)  \n",
    "\n",
    "# Create the final model\n",
    "model = Model(inputs=base_model.input, outputs=predictions)\n",
    "\n",
    "# Compile the model\n",
    "model.compile(optimizer='adam', loss='categorical_crossentropy', metrics=['accuracy'])\n",
    "\n"
   ]
  },
  {
   "cell_type": "code",
   "execution_count": 4,
   "metadata": {},
   "outputs": [
    {
     "name": "stdout",
     "output_type": "stream",
     "text": [
      "Epoch 1/10\n",
      "WARNING:tensorflow:From C:\\Users\\0871\\AppData\\Roaming\\Python\\Python310\\site-packages\\keras\\src\\utils\\tf_utils.py:492: The name tf.ragged.RaggedTensorValue is deprecated. Please use tf.compat.v1.ragged.RaggedTensorValue instead.\n",
      "\n",
      "WARNING:tensorflow:From C:\\Users\\0871\\AppData\\Roaming\\Python\\Python310\\site-packages\\keras\\src\\engine\\base_layer_utils.py:384: The name tf.executing_eagerly_outside_functions is deprecated. Please use tf.compat.v1.executing_eagerly_outside_functions instead.\n",
      "\n",
      "7/7 [==============================] - 17s 2s/step - loss: 0.7562 - accuracy: 0.7538 - val_loss: 0.3644 - val_accuracy: 0.8571\n",
      "Epoch 2/10\n",
      "7/7 [==============================] - 10s 1s/step - loss: 0.5609 - accuracy: 0.8241 - val_loss: 0.5060 - val_accuracy: 0.7755\n",
      "Epoch 3/10\n",
      "7/7 [==============================] - 8s 1s/step - loss: 0.5723 - accuracy: 0.8392 - val_loss: 0.4629 - val_accuracy: 0.7959\n",
      "Epoch 4/10\n",
      "7/7 [==============================] - 8s 1s/step - loss: 0.2679 - accuracy: 0.9246 - val_loss: 0.4229 - val_accuracy: 0.8163\n",
      "Epoch 5/10\n",
      "7/7 [==============================] - 7s 1s/step - loss: 0.3186 - accuracy: 0.9246 - val_loss: 1.2627 - val_accuracy: 0.5918\n",
      "Epoch 6/10\n",
      "7/7 [==============================] - 7s 1s/step - loss: 0.2551 - accuracy: 0.9095 - val_loss: 3.4081 - val_accuracy: 0.5306\n",
      "Epoch 7/10\n",
      "7/7 [==============================] - 7s 1s/step - loss: 0.3319 - accuracy: 0.9146 - val_loss: 2.1131 - val_accuracy: 0.6122\n",
      "Epoch 8/10\n",
      "7/7 [==============================] - 7s 1s/step - loss: 0.1164 - accuracy: 0.9548 - val_loss: 0.8675 - val_accuracy: 0.7143\n",
      "Epoch 9/10\n",
      "7/7 [==============================] - 7s 1s/step - loss: 0.2625 - accuracy: 0.9296 - val_loss: 0.7994 - val_accuracy: 0.7959\n",
      "Epoch 10/10\n",
      "7/7 [==============================] - 7s 1s/step - loss: 0.2092 - accuracy: 0.9095 - val_loss: 0.4274 - val_accuracy: 0.8571\n"
     ]
    }
   ],
   "source": [
    "# Fit the model\n",
    "history=model.fit(\n",
    "    train_generator,\n",
    "    epochs=10, validation_data=validation_generator)\n"
   ]
  },
  {
   "cell_type": "code",
   "execution_count": 5,
   "metadata": {},
   "outputs": [
    {
     "data": {
      "text/html": [
       "<div>\n",
       "<style scoped>\n",
       "    .dataframe tbody tr th:only-of-type {\n",
       "        vertical-align: middle;\n",
       "    }\n",
       "\n",
       "    .dataframe tbody tr th {\n",
       "        vertical-align: top;\n",
       "    }\n",
       "\n",
       "    .dataframe thead th {\n",
       "        text-align: right;\n",
       "    }\n",
       "</style>\n",
       "<table border=\"1\" class=\"dataframe\">\n",
       "  <thead>\n",
       "    <tr style=\"text-align: right;\">\n",
       "      <th></th>\n",
       "      <th>loss</th>\n",
       "      <th>accuracy</th>\n",
       "      <th>val_loss</th>\n",
       "      <th>val_accuracy</th>\n",
       "    </tr>\n",
       "  </thead>\n",
       "  <tbody>\n",
       "    <tr>\n",
       "      <th>0</th>\n",
       "      <td>0.756181</td>\n",
       "      <td>0.753769</td>\n",
       "      <td>0.364393</td>\n",
       "      <td>0.857143</td>\n",
       "    </tr>\n",
       "    <tr>\n",
       "      <th>1</th>\n",
       "      <td>0.560877</td>\n",
       "      <td>0.824121</td>\n",
       "      <td>0.505984</td>\n",
       "      <td>0.775510</td>\n",
       "    </tr>\n",
       "    <tr>\n",
       "      <th>2</th>\n",
       "      <td>0.572310</td>\n",
       "      <td>0.839196</td>\n",
       "      <td>0.462947</td>\n",
       "      <td>0.795918</td>\n",
       "    </tr>\n",
       "    <tr>\n",
       "      <th>3</th>\n",
       "      <td>0.267870</td>\n",
       "      <td>0.924623</td>\n",
       "      <td>0.422903</td>\n",
       "      <td>0.816327</td>\n",
       "    </tr>\n",
       "    <tr>\n",
       "      <th>4</th>\n",
       "      <td>0.318635</td>\n",
       "      <td>0.924623</td>\n",
       "      <td>1.262697</td>\n",
       "      <td>0.591837</td>\n",
       "    </tr>\n",
       "    <tr>\n",
       "      <th>5</th>\n",
       "      <td>0.255063</td>\n",
       "      <td>0.909548</td>\n",
       "      <td>3.408100</td>\n",
       "      <td>0.530612</td>\n",
       "    </tr>\n",
       "    <tr>\n",
       "      <th>6</th>\n",
       "      <td>0.331946</td>\n",
       "      <td>0.914573</td>\n",
       "      <td>2.113105</td>\n",
       "      <td>0.612245</td>\n",
       "    </tr>\n",
       "    <tr>\n",
       "      <th>7</th>\n",
       "      <td>0.116408</td>\n",
       "      <td>0.954774</td>\n",
       "      <td>0.867486</td>\n",
       "      <td>0.714286</td>\n",
       "    </tr>\n",
       "    <tr>\n",
       "      <th>8</th>\n",
       "      <td>0.262460</td>\n",
       "      <td>0.929648</td>\n",
       "      <td>0.799422</td>\n",
       "      <td>0.795918</td>\n",
       "    </tr>\n",
       "    <tr>\n",
       "      <th>9</th>\n",
       "      <td>0.209171</td>\n",
       "      <td>0.909548</td>\n",
       "      <td>0.427353</td>\n",
       "      <td>0.857143</td>\n",
       "    </tr>\n",
       "  </tbody>\n",
       "</table>\n",
       "</div>"
      ],
      "text/plain": [
       "       loss  accuracy  val_loss  val_accuracy\n",
       "0  0.756181  0.753769  0.364393      0.857143\n",
       "1  0.560877  0.824121  0.505984      0.775510\n",
       "2  0.572310  0.839196  0.462947      0.795918\n",
       "3  0.267870  0.924623  0.422903      0.816327\n",
       "4  0.318635  0.924623  1.262697      0.591837\n",
       "5  0.255063  0.909548  3.408100      0.530612\n",
       "6  0.331946  0.914573  2.113105      0.612245\n",
       "7  0.116408  0.954774  0.867486      0.714286\n",
       "8  0.262460  0.929648  0.799422      0.795918\n",
       "9  0.209171  0.909548  0.427353      0.857143"
      ]
     },
     "execution_count": 5,
     "metadata": {},
     "output_type": "execute_result"
    }
   ],
   "source": [
    "import pandas as pd\n",
    "import matplotlib.pyplot as plt\n",
    "import numpy as np\n",
    "from sklearn.metrics import confusion_matrix, classification_report\n",
    "import seaborn as sns \n",
    "hist_=pd.DataFrame(history.history)\n",
    "hist_"
   ]
  },
  {
   "cell_type": "code",
   "execution_count": 6,
   "metadata": {},
   "outputs": [
    {
     "data": {
      "image/png": "[encoded data removed]",
      "text/plain": [
       "<Figure size 1500x1000 with 2 Axes>"
      ]
     },
     "metadata": {},
     "output_type": "display_data"
    }
   ],
   "source": [
    "plt.figure(figsize=(15,10))\n",
    "plt.subplot(1,2,1)\n",
    "plt.plot(hist_['loss'],label='Train_Loss')\n",
    "plt.plot(hist_['val_loss'],label='Validation_Loss')\n",
    "plt.title('Train_Loss & Validation_Loss',fontsize=20)\n",
    "plt.legend()\n",
    "plt.subplot(1,2,2)\n",
    "plt.plot(hist_['accuracy'],label='Train_Accuracy')\n",
    "plt.plot(hist_['val_accuracy'],label='Validation_Accuracy')\n",
    "plt.title('Train_Accuracy & Validation_Accuracy',fontsize=20)\n",
    "plt.legend()\n",
    "plt.show()"
   ]
  },
  {
   "cell_type": "code",
   "execution_count": 7,
   "metadata": {},
   "outputs": [
    {
     "name": "stdout",
     "output_type": "stream",
     "text": [
      "4/4 [==============================] - 4s 1s/step - loss: 0.0807 - accuracy: 0.9720\n",
      "Test Accuracy = [0.0807473212480545, 0.9719626307487488]\n"
     ]
    }
   ],
   "source": [
    "acc= model.evaluate(test_generator)\n",
    "print('Test Accuracy =', acc)"
   ]
  },
  {
   "cell_type": "code",
   "execution_count": 8,
   "metadata": {},
   "outputs": [
    {
     "name": "stdout",
     "output_type": "stream",
     "text": [
      "4/4 [==============================] - 4s 846ms/step\n"
     ]
    },
    {
     "data": {
      "text/html": [
       "<div>\n",
       "<style scoped>\n",
       "    .dataframe tbody tr th:only-of-type {\n",
       "        vertical-align: middle;\n",
       "    }\n",
       "\n",
       "    .dataframe tbody tr th {\n",
       "        vertical-align: top;\n",
       "    }\n",
       "\n",
       "    .dataframe thead th {\n",
       "        text-align: right;\n",
       "    }\n",
       "</style>\n",
       "<table border=\"1\" class=\"dataframe\">\n",
       "  <thead>\n",
       "    <tr style=\"text-align: right;\">\n",
       "      <th></th>\n",
       "      <th>Actual</th>\n",
       "      <th>Prediction</th>\n",
       "    </tr>\n",
       "  </thead>\n",
       "  <tbody>\n",
       "    <tr>\n",
       "      <th>0</th>\n",
       "      <td>0</td>\n",
       "      <td>0</td>\n",
       "    </tr>\n",
       "    <tr>\n",
       "      <th>1</th>\n",
       "      <td>0</td>\n",
       "      <td>0</td>\n",
       "    </tr>\n",
       "    <tr>\n",
       "      <th>2</th>\n",
       "      <td>0</td>\n",
       "      <td>0</td>\n",
       "    </tr>\n",
       "    <tr>\n",
       "      <th>3</th>\n",
       "      <td>0</td>\n",
       "      <td>0</td>\n",
       "    </tr>\n",
       "    <tr>\n",
       "      <th>4</th>\n",
       "      <td>0</td>\n",
       "      <td>0</td>\n",
       "    </tr>\n",
       "    <tr>\n",
       "      <th>...</th>\n",
       "      <td>...</td>\n",
       "      <td>...</td>\n",
       "    </tr>\n",
       "    <tr>\n",
       "      <th>102</th>\n",
       "      <td>1</td>\n",
       "      <td>1</td>\n",
       "    </tr>\n",
       "    <tr>\n",
       "      <th>103</th>\n",
       "      <td>1</td>\n",
       "      <td>1</td>\n",
       "    </tr>\n",
       "    <tr>\n",
       "      <th>104</th>\n",
       "      <td>1</td>\n",
       "      <td>1</td>\n",
       "    </tr>\n",
       "    <tr>\n",
       "      <th>105</th>\n",
       "      <td>1</td>\n",
       "      <td>1</td>\n",
       "    </tr>\n",
       "    <tr>\n",
       "      <th>106</th>\n",
       "      <td>1</td>\n",
       "      <td>1</td>\n",
       "    </tr>\n",
       "  </tbody>\n",
       "</table>\n",
       "<p>107 rows × 2 columns</p>\n",
       "</div>"
      ],
      "text/plain": [
       "     Actual  Prediction\n",
       "0         0           0\n",
       "1         0           0\n",
       "2         0           0\n",
       "3         0           0\n",
       "4         0           0\n",
       "..      ...         ...\n",
       "102       1           1\n",
       "103       1           1\n",
       "104       1           1\n",
       "105       1           1\n",
       "106       1           1\n",
       "\n",
       "[107 rows x 2 columns]"
      ]
     },
     "execution_count": 8,
     "metadata": {},
     "output_type": "execute_result"
    }
   ],
   "source": [
    "predictions = model.predict(test_generator)\n",
    "y_pred = np.argmax(predictions,axis=1)\n",
    "y_test_ = test_generator.classes\n",
    "df = pd.DataFrame({'Actual': y_test_, 'Prediction': y_pred})\n",
    "df"
   ]
  },
  {
   "cell_type": "code",
   "execution_count": 9,
   "metadata": {},
   "outputs": [
    {
     "data": {
      "text/plain": [
       "array([[58,  1],\n",
       "       [ 2, 46]], dtype=int64)"
      ]
     },
     "execution_count": 9,
     "metadata": {},
     "output_type": "execute_result"
    },
    {
     "data": {
      "image/png": "[encoded data removed]",
      "text/plain": [
       "<Figure size 640x480 with 1 Axes>"
      ]
     },
     "metadata": {},
     "output_type": "display_data"
    }
   ],
   "source": [
    "CM = confusion_matrix(y_test_,y_pred)\n",
    "CM_percent = CM.astype('float') / CM.sum(axis=1)[:, np.newaxis]\n",
    "sns.heatmap(CM_percent,fmt='g',center = True,cbar=False,annot=True,cmap='Blues')\n",
    "CM"
   ]
  },
  {
   "cell_type": "code",
   "execution_count": 10,
   "metadata": {},
   "outputs": [
    {
     "name": "stdout",
     "output_type": "stream",
     "text": [
      "Classification Report is :                precision    recall  f1-score   support\n",
      "\n",
      "           0       0.97      0.98      0.97        59\n",
      "           1       0.98      0.96      0.97        48\n",
      "\n",
      "    accuracy                           0.97       107\n",
      "   macro avg       0.97      0.97      0.97       107\n",
      "weighted avg       0.97      0.97      0.97       107\n",
      "\n"
     ]
    }
   ],
   "source": [
    "ClassificationReport = classification_report(y_test_,y_pred)\n",
    "print('Classification Report is : ', ClassificationReport )"
   ]
  },
  {
   "cell_type": "code",
   "execution_count": 11,
   "metadata": {},
   "outputs": [],
   "source": [
    "model.save(\"mobilenet.keras\")"
   ]
  },
  {
   "cell_type": "code",
   "execution_count": 17,
   "metadata": {},
   "outputs": [
    {
     "name": "stdout",
     "output_type": "stream",
     "text": [
      "1/1 [==============================] - 0s 321ms/step\n",
      "Predicted Class: Real\n"
     ]
    }
   ],
   "source": [
    "import cv2\n",
    "import numpy as np\n",
    "import tensorflow as tf\n",
    "from tensorflow import keras\n",
    "from keras.preprocessing.image import img_to_array, load_img\n",
    "\n",
    "# Load the pre-trained model\n",
    "model = keras.models.load_model(\"mobilenet.keras\")\n",
    "\n",
    "# Define image path\n",
    "image_path = r\"Indian Currency Dataset\\test\\real\\test (45).jpg\"\n",
    "\n",
    "# Load and prepare the image\n",
    "def prepare_image(image_path, target_size):\n",
    "    img = load_img(image_path, target_size=target_size)  # Load the image\n",
    "    img_array = img_to_array(img)  # Convert the image to numpy array\n",
    "    img_array = img_array / 255.0  # Scale the image (if your model requires normalization)\n",
    "    img_array = np.expand_dims(img_array, axis=0)  # Add batch dimension\n",
    "    return img_array\n",
    "\n",
    "# Prepare the image\n",
    "prepared_image = prepare_image(image_path, target_size=(224, 224))\n",
    "\n",
    "# Predict using the model\n",
    "predictions = model.predict(prepared_image)\n",
    "predicted_class = np.argmax(predictions, axis=1)  # Get the class with highest probability\n",
    "\n",
    "# Output the result\n",
    "class_labels = ['Fake', 'Real']\n",
    "predicted_class_label = class_labels[predicted_class[0]]\n",
    "print(f\"Predicted Class: {predicted_class_label}\")"
   ]
  },
  {
   "cell_type": "code",
   "execution_count": 18,
   "metadata": {},
   "outputs": [],
   "source": [
    "import tensorflow as tf\n",
    "from tensorflow.keras.applications import ResNet101\n",
    "from tensorflow.keras.layers import GlobalAveragePooling2D, Dense, Dropout, Flatten, BatchNormalization\n",
    "from tensorflow.keras.models import Model\n",
    "from tensorflow.keras.preprocessing.image import ImageDataGenerator\n",
    "\n",
    "# Load the pre-trained MobileNet model without the top layer\n",
    "base_model = ResNet101(weights='imagenet', include_top=False, input_shape=(224, 224, 3))\n",
    "\n",
    "# Freeze the layers of the base model\n",
    "for layer in base_model.layers:\n",
    "    layer.trainable = False\n",
    "\n",
    "# Adding custom layers\n",
    "x = base_model.output\n",
    "x = GlobalAveragePooling2D()(x)  \n",
    "\n",
    "x = Flatten()(x) \n",
    "x = Dense(1024, activation='relu')(x) \n",
    "x = BatchNormalization()(x)  \n",
    "x = Dropout(0.5)(x) \n",
    "\n",
    "predictions = Dense(2, activation='softmax')(x)  \n",
    "\n",
    "# Create the final model\n",
    "model = Model(inputs=base_model.input, outputs=predictions)\n",
    "\n",
    "# Compile the model\n",
    "model.compile(optimizer='adam', loss='categorical_crossentropy', metrics=['accuracy'])\n",
    "\n"
   ]
  },
  {
   "cell_type": "code",
   "execution_count": 19,
   "metadata": {},
   "outputs": [
    {
     "name": "stdout",
     "output_type": "stream",
     "text": [
      "Epoch 1/10\n",
      "7/7 [==============================] - 33s 4s/step - loss: 1.2115 - accuracy: 0.6030 - val_loss: 0.9807 - val_accuracy: 0.5102\n",
      "Epoch 2/10\n",
      "7/7 [==============================] - 27s 4s/step - loss: 0.9286 - accuracy: 0.5930 - val_loss: 1.5815 - val_accuracy: 0.4898\n",
      "Epoch 3/10\n",
      "7/7 [==============================] - 25s 4s/step - loss: 0.7847 - accuracy: 0.7136 - val_loss: 1.1677 - val_accuracy: 0.4898\n",
      "Epoch 4/10\n",
      "7/7 [==============================] - 25s 3s/step - loss: 0.5806 - accuracy: 0.7286 - val_loss: 0.7553 - val_accuracy: 0.4898\n",
      "Epoch 5/10\n",
      "7/7 [==============================] - 25s 4s/step - loss: 0.5920 - accuracy: 0.7337 - val_loss: 0.8377 - val_accuracy: 0.4898\n",
      "Epoch 6/10\n",
      "7/7 [==============================] - 26s 4s/step - loss: 0.5350 - accuracy: 0.7588 - val_loss: 0.6098 - val_accuracy: 0.8367\n",
      "Epoch 7/10\n",
      "7/7 [==============================] - 26s 4s/step - loss: 0.5682 - accuracy: 0.7186 - val_loss: 0.6414 - val_accuracy: 0.5102\n",
      "Epoch 8/10\n",
      "7/7 [==============================] - 26s 4s/step - loss: 0.4872 - accuracy: 0.7839 - val_loss: 0.6470 - val_accuracy: 0.5306\n",
      "Epoch 9/10\n",
      "7/7 [==============================] - 26s 4s/step - loss: 0.4640 - accuracy: 0.7940 - val_loss: 0.9098 - val_accuracy: 0.5102\n",
      "Epoch 10/10\n",
      "7/7 [==============================] - 25s 4s/step - loss: 0.4969 - accuracy: 0.7638 - val_loss: 0.8074 - val_accuracy: 0.5102\n"
     ]
    }
   ],
   "source": [
    "# Fit the model\n",
    "history=model.fit(\n",
    "    train_generator,\n",
    "    epochs=10, validation_data=validation_generator)\n"
   ]
  },
  {
   "cell_type": "code",
   "execution_count": 20,
   "metadata": {},
   "outputs": [
    {
     "data": {
      "text/html": [
       "<div>\n",
       "<style scoped>\n",
       "    .dataframe tbody tr th:only-of-type {\n",
       "        vertical-align: middle;\n",
       "    }\n",
       "\n",
       "    .dataframe tbody tr th {\n",
       "        vertical-align: top;\n",
       "    }\n",
       "\n",
       "    .dataframe thead th {\n",
       "        text-align: right;\n",
       "    }\n",
       "</style>\n",
       "<table border=\"1\" class=\"dataframe\">\n",
       "  <thead>\n",
       "    <tr style=\"text-align: right;\">\n",
       "      <th></th>\n",
       "      <th>loss</th>\n",
       "      <th>accuracy</th>\n",
       "      <th>val_loss</th>\n",
       "      <th>val_accuracy</th>\n",
       "    </tr>\n",
       "  </thead>\n",
       "  <tbody>\n",
       "    <tr>\n",
       "      <th>0</th>\n",
       "      <td>1.211489</td>\n",
       "      <td>0.603015</td>\n",
       "      <td>0.980722</td>\n",
       "      <td>0.510204</td>\n",
       "    </tr>\n",
       "    <tr>\n",
       "      <th>1</th>\n",
       "      <td>0.928615</td>\n",
       "      <td>0.592965</td>\n",
       "      <td>1.581518</td>\n",
       "      <td>0.489796</td>\n",
       "    </tr>\n",
       "    <tr>\n",
       "      <th>2</th>\n",
       "      <td>0.784688</td>\n",
       "      <td>0.713568</td>\n",
       "      <td>1.167714</td>\n",
       "      <td>0.489796</td>\n",
       "    </tr>\n",
       "    <tr>\n",
       "      <th>3</th>\n",
       "      <td>0.580594</td>\n",
       "      <td>0.728643</td>\n",
       "      <td>0.755276</td>\n",
       "      <td>0.489796</td>\n",
       "    </tr>\n",
       "    <tr>\n",
       "      <th>4</th>\n",
       "      <td>0.592037</td>\n",
       "      <td>0.733668</td>\n",
       "      <td>0.837685</td>\n",
       "      <td>0.489796</td>\n",
       "    </tr>\n",
       "    <tr>\n",
       "      <th>5</th>\n",
       "      <td>0.535021</td>\n",
       "      <td>0.758794</td>\n",
       "      <td>0.609779</td>\n",
       "      <td>0.836735</td>\n",
       "    </tr>\n",
       "    <tr>\n",
       "      <th>6</th>\n",
       "      <td>0.568175</td>\n",
       "      <td>0.718593</td>\n",
       "      <td>0.641350</td>\n",
       "      <td>0.510204</td>\n",
       "    </tr>\n",
       "    <tr>\n",
       "      <th>7</th>\n",
       "      <td>0.487180</td>\n",
       "      <td>0.783920</td>\n",
       "      <td>0.646966</td>\n",
       "      <td>0.530612</td>\n",
       "    </tr>\n",
       "    <tr>\n",
       "      <th>8</th>\n",
       "      <td>0.464006</td>\n",
       "      <td>0.793970</td>\n",
       "      <td>0.909818</td>\n",
       "      <td>0.510204</td>\n",
       "    </tr>\n",
       "    <tr>\n",
       "      <th>9</th>\n",
       "      <td>0.496945</td>\n",
       "      <td>0.763819</td>\n",
       "      <td>0.807439</td>\n",
       "      <td>0.510204</td>\n",
       "    </tr>\n",
       "  </tbody>\n",
       "</table>\n",
       "</div>"
      ],
      "text/plain": [
       "       loss  accuracy  val_loss  val_accuracy\n",
       "0  1.211489  0.603015  0.980722      0.510204\n",
       "1  0.928615  0.592965  1.581518      0.489796\n",
       "2  0.784688  0.713568  1.167714      0.489796\n",
       "3  0.580594  0.728643  0.755276      0.489796\n",
       "4  0.592037  0.733668  0.837685      0.489796\n",
       "5  0.535021  0.758794  0.609779      0.836735\n",
       "6  0.568175  0.718593  0.641350      0.510204\n",
       "7  0.487180  0.783920  0.646966      0.530612\n",
       "8  0.464006  0.793970  0.909818      0.510204\n",
       "9  0.496945  0.763819  0.807439      0.510204"
      ]
     },
     "execution_count": 20,
     "metadata": {},
     "output_type": "execute_result"
    }
   ],
   "source": [
    "import pandas as pd\n",
    "import matplotlib.pyplot as plt\n",
    "import numpy as np\n",
    "from sklearn.metrics import confusion_matrix, classification_report\n",
    "import seaborn as sns \n",
    "hist_=pd.DataFrame(history.history)\n",
    "hist_"
   ]
  },
  {
   "cell_type": "code",
   "execution_count": 28,
   "metadata": {},
   "outputs": [
    {
     "data": {
      "image/png": "[encoded data removed]",
      "text/plain": [
       "<Figure size 1500x1000 with 2 Axes>"
      ]
     },
     "metadata": {},
     "output_type": "display_data"
    }
   ],
   "source": [
    "plt.figure(figsize=(15,10))\n",
    "plt.subplot(1,2,1)\n",
    "plt.plot(hist_['loss'],label='Train_Loss')\n",
    "plt.plot(hist_['val_loss'],label='Validation_Loss')\n",
    "plt.title('Train_Loss & Validation_Loss',fontsize=20)\n",
    "plt.legend()\n",
    "plt.subplot(1,2,2)\n",
    "plt.plot(hist_['accuracy'],label='Train_Accuracy')\n",
    "plt.plot(hist_['val_accuracy'],label='Validation_Accuracy')\n",
    "plt.title('Train_Accuracy & Validation_Accuracy',fontsize=20)\n",
    "plt.legend()\n",
    "plt.show()"
   ]
  },
  {
   "cell_type": "code",
   "execution_count": 22,
   "metadata": {},
   "outputs": [
    {
     "name": "stdout",
     "output_type": "stream",
     "text": [
      "4/4 [==============================] - 10s 2s/step - loss: 0.7944 - accuracy: 0.5514\n",
      "Test Accuracy = [0.794378399848938, 0.5514018535614014]\n"
     ]
    }
   ],
   "source": [
    "acc= model.evaluate(test_generator)\n",
    "print('Test Accuracy =', acc)"
   ]
  },
  {
   "cell_type": "code",
   "execution_count": 23,
   "metadata": {},
   "outputs": [
    {
     "name": "stdout",
     "output_type": "stream",
     "text": [
      "4/4 [==============================] - 11s 2s/step\n"
     ]
    },
    {
     "data": {
      "text/html": [
       "<div>\n",
       "<style scoped>\n",
       "    .dataframe tbody tr th:only-of-type {\n",
       "        vertical-align: middle;\n",
       "    }\n",
       "\n",
       "    .dataframe tbody tr th {\n",
       "        vertical-align: top;\n",
       "    }\n",
       "\n",
       "    .dataframe thead th {\n",
       "        text-align: right;\n",
       "    }\n",
       "</style>\n",
       "<table border=\"1\" class=\"dataframe\">\n",
       "  <thead>\n",
       "    <tr style=\"text-align: right;\">\n",
       "      <th></th>\n",
       "      <th>Actual</th>\n",
       "      <th>Prediction</th>\n",
       "    </tr>\n",
       "  </thead>\n",
       "  <tbody>\n",
       "    <tr>\n",
       "      <th>0</th>\n",
       "      <td>0</td>\n",
       "      <td>0</td>\n",
       "    </tr>\n",
       "    <tr>\n",
       "      <th>1</th>\n",
       "      <td>0</td>\n",
       "      <td>0</td>\n",
       "    </tr>\n",
       "    <tr>\n",
       "      <th>2</th>\n",
       "      <td>0</td>\n",
       "      <td>0</td>\n",
       "    </tr>\n",
       "    <tr>\n",
       "      <th>3</th>\n",
       "      <td>0</td>\n",
       "      <td>0</td>\n",
       "    </tr>\n",
       "    <tr>\n",
       "      <th>4</th>\n",
       "      <td>0</td>\n",
       "      <td>0</td>\n",
       "    </tr>\n",
       "    <tr>\n",
       "      <th>...</th>\n",
       "      <td>...</td>\n",
       "      <td>...</td>\n",
       "    </tr>\n",
       "    <tr>\n",
       "      <th>102</th>\n",
       "      <td>1</td>\n",
       "      <td>0</td>\n",
       "    </tr>\n",
       "    <tr>\n",
       "      <th>103</th>\n",
       "      <td>1</td>\n",
       "      <td>0</td>\n",
       "    </tr>\n",
       "    <tr>\n",
       "      <th>104</th>\n",
       "      <td>1</td>\n",
       "      <td>0</td>\n",
       "    </tr>\n",
       "    <tr>\n",
       "      <th>105</th>\n",
       "      <td>1</td>\n",
       "      <td>0</td>\n",
       "    </tr>\n",
       "    <tr>\n",
       "      <th>106</th>\n",
       "      <td>1</td>\n",
       "      <td>0</td>\n",
       "    </tr>\n",
       "  </tbody>\n",
       "</table>\n",
       "<p>107 rows × 2 columns</p>\n",
       "</div>"
      ],
      "text/plain": [
       "     Actual  Prediction\n",
       "0         0           0\n",
       "1         0           0\n",
       "2         0           0\n",
       "3         0           0\n",
       "4         0           0\n",
       "..      ...         ...\n",
       "102       1           0\n",
       "103       1           0\n",
       "104       1           0\n",
       "105       1           0\n",
       "106       1           0\n",
       "\n",
       "[107 rows x 2 columns]"
      ]
     },
     "execution_count": 23,
     "metadata": {},
     "output_type": "execute_result"
    }
   ],
   "source": [
    "predictions = model.predict(test_generator)\n",
    "y_pred = np.argmax(predictions,axis=1)\n",
    "y_test_ = test_generator.classes\n",
    "df = pd.DataFrame({'Actual': y_test_, 'Prediction': y_pred})\n",
    "df"
   ]
  },
  {
   "cell_type": "code",
   "execution_count": 24,
   "metadata": {},
   "outputs": [
    {
     "data": {
      "text/plain": [
       "array([[59,  0],\n",
       "       [48,  0]], dtype=int64)"
      ]
     },
     "execution_count": 24,
     "metadata": {},
     "output_type": "execute_result"
    },
    {
     "data": {
      "image/png": "[encoded data removed]",
      "text/plain": [
       "<Figure size 640x480 with 1 Axes>"
      ]
     },
     "metadata": {},
     "output_type": "display_data"
    }
   ],
   "source": [
    "CM = confusion_matrix(y_test_,y_pred)\n",
    "CM_percent = CM.astype('float') / CM.sum(axis=1)[:, np.newaxis]\n",
    "sns.heatmap(CM_percent,fmt='g',center = True,cbar=False,annot=True,cmap='Blues')\n",
    "CM"
   ]
  },
  {
   "cell_type": "code",
   "execution_count": 25,
   "metadata": {},
   "outputs": [
    {
     "name": "stdout",
     "output_type": "stream",
     "text": [
      "Classification Report is :                precision    recall  f1-score   support\n",
      "\n",
      "           0       0.55      1.00      0.71        59\n",
      "           1       0.00      0.00      0.00        48\n",
      "\n",
      "    accuracy                           0.55       107\n",
      "   macro avg       0.28      0.50      0.36       107\n",
      "weighted avg       0.30      0.55      0.39       107\n",
      "\n"
     ]
    },
    {
     "name": "stderr",
     "output_type": "stream",
     "text": [
      "C:\\Users\\0871\\AppData\\Roaming\\Python\\Python310\\site-packages\\sklearn\\metrics\\_classification.py:1344: UndefinedMetricWarning: Precision and F-score are ill-defined and being set to 0.0 in labels with no predicted samples. Use `zero_division` parameter to control this behavior.\n",
      "  _warn_prf(average, modifier, msg_start, len(result))\n",
      "C:\\Users\\0871\\AppData\\Roaming\\Python\\Python310\\site-packages\\sklearn\\metrics\\_classification.py:1344: UndefinedMetricWarning: Precision and F-score are ill-defined and being set to 0.0 in labels with no predicted samples. Use `zero_division` parameter to control this behavior.\n",
      "  _warn_prf(average, modifier, msg_start, len(result))\n",
      "C:\\Users\\0871\\AppData\\Roaming\\Python\\Python310\\site-packages\\sklearn\\metrics\\_classification.py:1344: UndefinedMetricWarning: Precision and F-score are ill-defined and being set to 0.0 in labels with no predicted samples. Use `zero_division` parameter to control this behavior.\n",
      "  _warn_prf(average, modifier, msg_start, len(result))\n"
     ]
    }
   ],
   "source": [
    "ClassificationReport = classification_report(y_test_,y_pred)\n",
    "print('Classification Report is : ', ClassificationReport )"
   ]
  },
  {
   "cell_type": "code",
   "execution_count": 26,
   "metadata": {},
   "outputs": [],
   "source": [
    "model.save(\"resnet.keras\")"
   ]
  },
  {
   "cell_type": "code",
   "execution_count": 27,
   "metadata": {},
   "outputs": [
    {
     "name": "stdout",
     "output_type": "stream",
     "text": [
      "1/1 [==============================] - 1s 1s/step\n",
      "Predicted Class: Fake\n"
     ]
    }
   ],
   "source": [
    "import cv2\n",
    "import numpy as np\n",
    "import tensorflow as tf\n",
    "from tensorflow import keras\n",
    "from keras.preprocessing.image import img_to_array, load_img\n",
    "\n",
    "# Load the pre-trained model\n",
    "model = keras.models.load_model(\"resnet.keras\")\n",
    "\n",
    "# Define image path\n",
    "image_path = r\"Indian Currency Dataset\\test\\real\\test (39).jpg\"\n",
    "\n",
    "# Load and prepare the image\n",
    "def prepare_image(image_path, target_size):\n",
    "    img = load_img(image_path, target_size=target_size)  # Load the image\n",
    "    img_array = img_to_array(img)  # Convert the image to numpy array\n",
    "    img_array = img_array / 255.0  # Scale the image (if your model requires normalization)\n",
    "    img_array = np.expand_dims(img_array, axis=0)  # Add batch dimension\n",
    "    return img_array\n",
    "\n",
    "# Prepare the image\n",
    "prepared_image = prepare_image(image_path, target_size=(224, 224))\n",
    "\n",
    "# Predict using the model\n",
    "predictions = model.predict(prepared_image)\n",
    "predicted_class = np.argmax(predictions, axis=1)  # Get the class with highest probability\n",
    "\n",
    "# Output the result\n",
    "class_labels = ['Fake', 'Real']\n",
    "predicted_class_label = class_labels[predicted_class[0]]\n",
    "print(f\"Predicted Class: {predicted_class_label}\")"
   ]
  },
  {
   "cell_type": "code",
   "execution_count": 3,
   "metadata": {},
   "outputs": [
    {
     "name": "stdout",
     "output_type": "stream",
     "text": [
      "WARNING:tensorflow:From C:\\Users\\0871\\AppData\\Roaming\\Python\\Python310\\site-packages\\keras\\src\\backend.py:1398: The name tf.executing_eagerly_outside_functions is deprecated. Please use tf.compat.v1.executing_eagerly_outside_functions instead.\n",
      "\n",
      "WARNING:tensorflow:From C:\\Users\\0871\\AppData\\Roaming\\Python\\Python310\\site-packages\\keras\\src\\layers\\normalization\\batch_normalization.py:979: The name tf.nn.fused_batch_norm is deprecated. Please use tf.compat.v1.nn.fused_batch_norm instead.\n",
      "\n",
      "1/1 [==============================] - 1s 985ms/step\n",
      "1/1 [==============================] - 0s 428ms/step\n",
      "1/1 [==============================] - 0s 406ms/step\n",
      "1/1 [==============================] - 0s 415ms/step\n",
      "1/1 [==============================] - 0s 477ms/step\n",
      "1/1 [==============================] - 0s 493ms/step\n",
      "1/1 [==============================] - 1s 549ms/step\n",
      "1/1 [==============================] - 0s 490ms/step\n",
      "1/1 [==============================] - 0s 474ms/step\n",
      "1/1 [==============================] - 0s 259ms/step\n",
      "1/1 [==============================] - 0s 415ms/step\n"
     ]
    }
   ],
   "source": [
    "from tensorflow.keras.applications import MobileNet\n",
    "from tensorflow.keras.models import Model\n",
    "from tensorflow.keras.layers import GlobalAveragePooling2D\n",
    "import numpy as np \n",
    "\n",
    "# Load the base model\n",
    "base_model = MobileNet(weights='imagenet', include_top=False, input_shape=(224, 224, 3))\n",
    "base_model.trainable = False\n",
    "\n",
    "# Add a global spatial average pooling layer\n",
    "x = base_model.output\n",
    "x = GlobalAveragePooling2D()(x)\n",
    "model = Model(inputs=base_model.input, outputs=x)\n",
    "\n",
    "def extract_features(generator, sample_count):\n",
    "    # Assuming the model's output is 1024-dimensional features\n",
    "    # Initialize arrays to hold the extracted features and labels.\n",
    "    # Note: We use None for flexible sizing in the features' first dimension.\n",
    "    features = np.zeros((0, 1024))  # Adjust 1024 if a different model output size is expected\n",
    "    labels = np.zeros((0,))\n",
    "    \n",
    "    # Keep track of the number of samples processed\n",
    "    processed_samples = 0\n",
    "    \n",
    "    for inputs_batch, labels_batch in generator:\n",
    "        # Ensure not to process more than the sample_count\n",
    "        if processed_samples < sample_count:\n",
    "            # Predict features for the current batch of images\n",
    "            features_batch = model.predict(inputs_batch)\n",
    "            actual_batch_size = features_batch.shape[0]\n",
    "            \n",
    "            # Update the total number of processed samples\n",
    "            processed_samples += actual_batch_size\n",
    "            \n",
    "            # Append the predicted features and the true labels to their respective arrays\n",
    "            features = np.append(features, features_batch, axis=0)\n",
    "            labels = np.append(labels, np.argmax(labels_batch, axis=1), axis=0)\n",
    "            \n",
    "            # If we've processed enough samples, break from the loop\n",
    "            if processed_samples >= sample_count:\n",
    "                break\n",
    "        else:\n",
    "            break\n",
    "    \n",
    "    # If we've processed more samples than needed, truncate the arrays\n",
    "    if processed_samples > sample_count:\n",
    "        features = features[:sample_count]\n",
    "        labels = labels[:sample_count]\n",
    "    \n",
    "    return features, labels\n",
    "\n",
    "train_features, train_labels = extract_features(train_generator, 200) # Adjust 200 to actual size\n",
    "validation_features, validation_labels = extract_features(validation_generator, 50) # Adjust 50 to actual size\n"
   ]
  },
  {
   "cell_type": "code",
   "execution_count": 30,
   "metadata": {},
   "outputs": [
    {
     "name": "stdout",
     "output_type": "stream",
     "text": [
      "WARNING:tensorflow:Compiled the loaded model, but the compiled metrics have yet to be built. `model.compile_metrics` will be empty until you train or evaluate the model.\n"
     ]
    },
    {
     "name": "stderr",
     "output_type": "stream",
     "text": [
      "C:\\Users\\0871\\AppData\\Roaming\\Python\\Python310\\site-packages\\keras\\src\\engine\\training.py:3103: UserWarning: You are saving your model as an HDF5 file via `model.save()`. This file format is considered legacy. We recommend using instead the native Keras format, e.g. `model.save('my_model.keras')`.\n",
      "  saving_api.save_model(\n"
     ]
    }
   ],
   "source": [
    "model.save(\"feature_extractor.h5\")"
   ]
  },
  {
   "cell_type": "code",
   "execution_count": 4,
   "metadata": {},
   "outputs": [
    {
     "name": "stdout",
     "output_type": "stream",
     "text": [
      "Validation Accuracy:  0.92\n",
      "Classification Report:\n",
      "               precision    recall  f1-score   support\n",
      "\n",
      "         0.0       0.86      1.00      0.93        25\n",
      "         1.0       1.00      0.84      0.91        25\n",
      "\n",
      "    accuracy                           0.92        50\n",
      "   macro avg       0.93      0.92      0.92        50\n",
      "weighted avg       0.93      0.92      0.92        50\n",
      "\n"
     ]
    }
   ],
   "source": [
    "from sklearn.ensemble import RandomForestClassifier\n",
    "from sklearn.metrics import accuracy_score, classification_report, confusion_matrix\n",
    "\n",
    "# Create and train the Random Forest\n",
    "rf = RandomForestClassifier(n_estimators=100, random_state=42)\n",
    "rf.fit(train_features, train_labels)\n",
    "\n",
    "# Predict on the validation set\n",
    "validation_predictions = rf.predict(validation_features)\n",
    "\n",
    "# Evaluate the model\n",
    "print(\"Validation Accuracy: \", accuracy_score(validation_labels, validation_predictions))\n",
    "print(\"Classification Report:\\n\", classification_report(validation_labels, validation_predictions))\n"
   ]
  },
  {
   "cell_type": "code",
   "execution_count": 5,
   "metadata": {},
   "outputs": [
    {
     "data": {
      "text/plain": [
       "array([[25,  0],\n",
       "       [ 4, 21]], dtype=int64)"
      ]
     },
     "execution_count": 5,
     "metadata": {},
     "output_type": "execute_result"
    }
   ],
   "source": [
    "confusion_matrix(validation_labels, validation_predictions)"
   ]
  },
  {
   "cell_type": "code",
   "execution_count": 7,
   "metadata": {},
   "outputs": [
    {
     "data": {
      "text/plain": [
       "array([[25,  0],\n",
       "       [ 4, 21]], dtype=int64)"
      ]
     },
     "execution_count": 7,
     "metadata": {},
     "output_type": "execute_result"
    },
    {
     "data": {
      "image/png": "[encoded data removed]",
      "text/plain": [
       "<Figure size 640x480 with 1 Axes>"
      ]
     },
     "metadata": {},
     "output_type": "display_data"
    }
   ],
   "source": [
    "import seaborn as sns\n",
    "CM = confusion_matrix(validation_labels, validation_predictions)\n",
    "CM_percent = CM.astype('float') / CM.sum(axis=1)[:, np.newaxis]\n",
    "sns.heatmap(CM_percent,fmt='g',center = True,cbar=False,annot=True,cmap='Blues')\n",
    "CM"
   ]
  },
  {
   "cell_type": "code",
   "execution_count": 8,
   "metadata": {},
   "outputs": [
    {
     "name": "stdout",
     "output_type": "stream",
     "text": [
      "Validation Accuracy:  0.9\n",
      "Classification Report:\n",
      "               precision    recall  f1-score   support\n",
      "\n",
      "         0.0       0.83      1.00      0.91        25\n",
      "         1.0       1.00      0.80      0.89        25\n",
      "\n",
      "    accuracy                           0.90        50\n",
      "   macro avg       0.92      0.90      0.90        50\n",
      "weighted avg       0.92      0.90      0.90        50\n",
      "\n"
     ]
    }
   ],
   "source": [
    "from sklearn.svm import SVC\n",
    "from sklearn.metrics import accuracy_score, classification_report\n",
    "from sklearn.preprocessing import StandardScaler\n",
    "import joblib\n",
    "\n",
    "\n",
    "# It's often a good idea to scale features before using SVM\n",
    "scaler = StandardScaler()\n",
    "train_features_scaled = scaler.fit_transform(train_features)\n",
    "validation_features_scaled = scaler.transform(validation_features)\n",
    "\n",
    "# Train the SVM model\n",
    "svm_model = SVC(kernel='linear', C=1.0, decision_function_shape='ovo')\n",
    "svm_model.fit(train_features_scaled, train_labels)\n",
    "\n",
    "# Predict on the validation set\n",
    "validation_predictions = svm_model.predict(validation_features_scaled)\n",
    "\n",
    "# Evaluate the model\n",
    "print(\"Validation Accuracy: \", accuracy_score(validation_labels, validation_predictions))\n",
    "print(\"Classification Report:\\n\", classification_report(validation_labels, validation_predictions))\n"
   ]
  },
  {
   "cell_type": "code",
   "execution_count": 9,
   "metadata": {},
   "outputs": [
    {
     "data": {
      "text/plain": [
       "['scaler.save']"
      ]
     },
     "execution_count": 9,
     "metadata": {},
     "output_type": "execute_result"
    }
   ],
   "source": [
    "joblib.dump(scaler, 'scaler.save')"
   ]
  },
  {
   "cell_type": "code",
   "execution_count": 10,
   "metadata": {},
   "outputs": [
    {
     "data": {
      "text/plain": [
       "array([[25,  0],\n",
       "       [ 5, 20]], dtype=int64)"
      ]
     },
     "execution_count": 10,
     "metadata": {},
     "output_type": "execute_result"
    }
   ],
   "source": [
    "confusion_matrix(validation_labels, validation_predictions)"
   ]
  },
  {
   "cell_type": "code",
   "execution_count": 11,
   "metadata": {},
   "outputs": [
    {
     "data": {
      "text/plain": [
       "array([[25,  0],\n",
       "       [ 5, 20]], dtype=int64)"
      ]
     },
     "execution_count": 11,
     "metadata": {},
     "output_type": "execute_result"
    },
    {
     "data": {
      "image/png": "[encoded data removed]",
      "text/plain": [
       "<Figure size 640x480 with 1 Axes>"
      ]
     },
     "metadata": {},
     "output_type": "display_data"
    }
   ],
   "source": [
    "import seaborn as sns\n",
    "CM = confusion_matrix(validation_labels, validation_predictions)\n",
    "CM_percent = CM.astype('float') / CM.sum(axis=1)[:, np.newaxis]\n",
    "sns.heatmap(CM_percent,fmt='g',center = True,cbar=False,annot=True,cmap='Blues')\n",
    "CM"
   ]
  },
  {
   "cell_type": "code",
   "execution_count": 36,
   "metadata": {},
   "outputs": [
    {
     "data": {
      "text/plain": [
       "['svm_model.pkl']"
      ]
     },
     "execution_count": 36,
     "metadata": {},
     "output_type": "execute_result"
    }
   ],
   "source": [
    "import joblib\n",
    "joblib.dump(svm_model, 'svm_model.pkl')"
   ]
  },
  {
   "cell_type": "code",
   "execution_count": 48,
   "metadata": {},
   "outputs": [
    {
     "name": "stdout",
     "output_type": "stream",
     "text": [
      "WARNING:tensorflow:No training configuration found in the save file, so the model was *not* compiled. Compile it manually.\n",
      "1/1 [==============================] - 0s 336ms/step\n",
      "Predicted class: [1.]\n",
      "Real\n"
     ]
    }
   ],
   "source": [
    "from tensorflow.keras.models import load_model\n",
    "import joblib\n",
    "from tensorflow.keras.preprocessing.image import img_to_array, load_img\n",
    "from tensorflow.keras.applications.mobilenet import preprocess_input\n",
    "import numpy as np\n",
    "def load_and_preprocess_image(image_path):\n",
    "    # Load the image file, resizing it to 224x224 pixels (as expected by MobileNet)\n",
    "    img = load_img(image_path, target_size=(224, 224))\n",
    "    # Convert the image to a numpy array\n",
    "    img_array = img_to_array(img)\n",
    "    # Expand dimensions to match the shape expected by the pre-trained model: (1, 224, 224, 3)\n",
    "    img_array_expanded = np.expand_dims(img_array, axis=0)\n",
    "    # Preprocess the image for the pre-trained model\n",
    "    return preprocess_input(img_array_expanded)\n",
    "\n",
    "# Load the feature extraction model\n",
    "feature_extraction_model_path = 'feature_extractor.h5'\n",
    "feature_extraction_model = load_model(feature_extraction_model_path)\n",
    "\n",
    "# Load the scaler\n",
    "scaler_path = 'scaler.save'\n",
    "scaler = joblib.load(scaler_path)\n",
    "\n",
    "# Load the SVM classifier\n",
    "svm_classifier_path = 'svm_model.pkl'\n",
    "svm_classifier = joblib.load(svm_classifier_path)\n",
    "\n",
    "# Assuming you have a function to load and preprocess images named `load_and_preprocess_image`\n",
    "preprocessed_image = load_and_preprocess_image(r'Indian Currency Dataset\\test\\real\\test (46).jpg')\n",
    "\n",
    "# Extract features\n",
    "features = feature_extraction_model.predict(preprocessed_image)\n",
    "\n",
    "# Scale features\n",
    "scaled_features = scaler.transform(features.reshape(1, -1))\n",
    "\n",
    "# Predict with the SVM model\n",
    "predicted_class = svm_classifier.predict(scaled_features)\n",
    "print(\"Predicted class:\", predicted_class)\n",
    "if predicted_class==0:\n",
    "    result=\"Fake\"\n",
    "    print(result)\n",
    "else:           \n",
    "    result=\"Real\" \n",
    "    print(result)"
   ]
  },
  {
   "cell_type": "code",
   "execution_count": null,
   "metadata": {},
   "outputs": [],
   "source": []
  }
 ],
 "metadata": {
  "kernelspec": {
   "display_name": "Python 3",
   "language": "python",
   "name": "python3"
  },
  "language_info": {
   "codemirror_mode": {
    "name": "ipython",
    "version": 3
   },
   "file_extension": ".py",
   "mimetype": "text/x-python",
   "name": "python",
   "nbconvert_exporter": "python",
   "pygments_lexer": "ipython3",
   "version": "3.10.8"
  }
 },
 "nbformat": 4,
 "nbformat_minor": 2
}
